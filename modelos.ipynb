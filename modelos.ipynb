{
 "cells": [
  {
   "cell_type": "markdown",
   "metadata": {},
   "source": [
    "### SVM"
   ]
  },
  {
   "cell_type": "code",
   "execution_count": 9,
   "metadata": {},
   "outputs": [],
   "source": [
    "import os\n",
    "import json\n",
    "import numpy as np\n",
    "import cv2\n",
    "from skimage.feature import hog\n",
    "import base64\n",
    "\n",
    "from sklearn.model_selection import cross_val_score"
   ]
  },
  {
   "cell_type": "code",
   "execution_count": 30,
   "metadata": {},
   "outputs": [],
   "source": [
    "def im_transformation(im0):   \n",
    "    # hog_feature = cv2.HOGDescriptor().compute(im0)\n",
    "    fd = hog(im0, pixels_per_cell=(8, 8))\n",
    "    \n",
    "    return fd"
   ]
  },
  {
   "cell_type": "code",
   "execution_count": 48,
   "metadata": {},
   "outputs": [],
   "source": [
    "def im_transformation2(im0):    \n",
    "    # hog_feature = cv2.HOGDescriptor().compute(im0)\n",
    "    fd = hog(im0, pixels_per_cell=(8, 8), block_norm='L2-Hys')\n",
    "    \n",
    "    return fd"
   ]
  },
  {
   "cell_type": "code",
   "execution_count": 36,
   "metadata": {},
   "outputs": [],
   "source": [
    "def read_train(folder, im_fun, exceptions = {}):\n",
    "    pathJson = folder\n",
    "    jsonFiles = [fJson for fJson in os.listdir(pathJson) if fJson.endswith('.json')]\n",
    "\n",
    "    bufferData = []\n",
    "    labels = []\n",
    "\n",
    "    for fJ in jsonFiles:\n",
    "        with open(os.path.join(pathJson, fJ)) as infile:\n",
    "            data = json.load(infile)\n",
    "            \n",
    "        if fJ in exceptions:\n",
    "            label = exceptions[fJ]\n",
    "        else: \n",
    "            for item in data[\"shapes\"]:\n",
    "                label = item[\"label\"]\n",
    "                label = label.upper()  # Convertir a mayúsculas\n",
    "                label = ''.join(filter(str.isalpha, label))  # Eliminar números\n",
    "                label = label.replace('JPG', '')  # Eliminar la extensión '.'\n",
    "\n",
    "        imdata = base64.b64decode(data[\"imageData\"])\n",
    "        npimg = np.frombuffer(imdata, dtype=np.uint8)\n",
    "        im0 = cv2.imdecode(npimg, 0)  # Lo pasamos a blanco y negro\n",
    "        im0 = cv2.resize(im0, (150, 150))\n",
    "        x = im_fun(im0)\n",
    "\n",
    "        bufferData.append(x)\n",
    "        labels.append(label)\n",
    "\n",
    "        # Añadimos una imagen más\n",
    "        # Girar la imagen, procesar y agregar\n",
    "        # x = im_fun(im0)\n",
    "        \n",
    "        # bufferData.append(x)\n",
    "        # labels.append(label)  # Asumiendo que la etiqueta es la misma para la imagen girada\n",
    "            \n",
    "    X = np.array(bufferData)\n",
    "    Y = np.array(labels)\n",
    "    return X, Y"
   ]
  },
  {
   "cell_type": "code",
   "execution_count": 49,
   "metadata": {},
   "outputs": [],
   "source": [
    "manually_mod = {'0321.json': 'LF', '0322.json': 'LB', '0323.json': 'RB', '0324.json': 'RF', '0292.json': 'LB', '0306.json': 'RF', '0334.json': 'LF', '0335.json': 'LB',  '0333.json': 'RF', '0277.json': 'RF', '0278.json': 'RB', '0336.json': 'RF'}\n",
    "\n",
    "X, Y = read_train(\"./HANDS\", im_transformation2, manually_mod)"
   ]
  },
  {
   "cell_type": "code",
   "execution_count": 50,
   "metadata": {},
   "outputs": [
    {
     "name": "stdout",
     "output_type": "stream",
     "text": [
      "(398, 20736) (398,)\n"
     ]
    }
   ],
   "source": [
    "print(X.shape, Y.shape)"
   ]
  },
  {
   "cell_type": "code",
   "execution_count": 51,
   "metadata": {},
   "outputs": [
    {
     "name": "stdout",
     "output_type": "stream",
     "text": [
      "Exactitud en cada fold de la validación cruzada: [0.625      0.5125     0.75       0.60759494 0.4556962 ]\n",
      "Exactitud media: 0.5901582278481012\n"
     ]
    }
   ],
   "source": [
    "from sklearn.svm import SVC\n",
    "\n",
    "\n",
    "# Crear el modelo\n",
    "model = SVC(kernel=\"poly\")\n",
    "\n",
    "# Realizar la validación cruzada\n",
    "scores = cross_val_score(model, X, Y, cv=5)  # cv es el número de divisiones/folds\n",
    "\n",
    "# Mostrar los resultados\n",
    "print(f\"Exactitud en cada fold de la validación cruzada: {scores}\")\n",
    "print(f\"Exactitud media: {scores.mean()}\")\n"
   ]
  },
  {
   "cell_type": "markdown",
   "metadata": {},
   "source": [
    "Ahora vamos a probar el mismo modelo pero entrenandolo con imágenes giradas."
   ]
  },
  {
   "cell_type": "code",
   "execution_count": 37,
   "metadata": {},
   "outputs": [
    {
     "name": "stdout",
     "output_type": "stream",
     "text": [
      "(398, 150, 150) (398,)\n"
     ]
    }
   ],
   "source": [
    "manually_mod = {'0321.json': 'LF', '0322.json': 'LB', '0323.json': 'RB', '0324.json': 'RF', '0292.json': 'LB', '0306.json': 'RF', '0334.json': 'LF', '0335.json': 'LB',  '0333.json': 'RF', '0277.json': 'RF', '0278.json': 'RB', '0336.json': 'RF'}\n",
    "\n",
    "X, Y = read_train(\"./HANDS\", lambda x: x, manually_mod) # queremos tener las imágenes sin formatear\n",
    "print(X.shape, Y.shape)"
   ]
  },
  {
   "cell_type": "code",
   "execution_count": 43,
   "metadata": {},
   "outputs": [],
   "source": [
    "def augment_data(X, Y):\n",
    "    augmented_X = []\n",
    "    augmented_Y = []\n",
    "\n",
    "    for x, y in zip(X, Y):\n",
    "        # Añadir la imagen original y su etiqueta\n",
    "        x_p = im_transformation(x)\n",
    "        augmented_X.append(x_p)\n",
    "        augmented_Y.append(y)\n",
    "        # Girar la imagen\n",
    "        im_rotated = cv2.rotate(x, cv2.ROTATE_90_COUNTERCLOCKWISE)\n",
    "        x_flipped = im_transformation(im_rotated)\n",
    "\n",
    "        # Añadir la imagen girada y su etiqueta\n",
    "        augmented_X.append(x_flipped)\n",
    "        augmented_Y.append(y)\n",
    "\n",
    "    \n",
    "    return np.array(augmented_X), np.array(augmented_Y)\n",
    "    "
   ]
  },
  {
   "cell_type": "code",
   "execution_count": 47,
   "metadata": {},
   "outputs": [
    {
     "name": "stdout",
     "output_type": "stream",
     "text": [
      "(80, 20736) (80,)\n",
      "Exactitud en el conjunto de prueba: 0.6\n",
      "(80, 20736) (80,)\n",
      "Exactitud en el conjunto de prueba: 0.575\n",
      "(80, 20736) (80,)\n",
      "Exactitud en el conjunto de prueba: 0.6875\n",
      "(79, 20736) (79,)\n",
      "Exactitud en el conjunto de prueba: 0.7215189873417721\n",
      "(79, 20736) (79,)\n",
      "Exactitud en el conjunto de prueba: 0.4810126582278481\n"
     ]
    }
   ],
   "source": [
    "from sklearn.model_selection import KFold\n",
    "\n",
    "# Configuración de la validación cruzada\n",
    "kf = KFold(n_splits=5)\n",
    "\n",
    "model = SVC(kernel=\"poly\")\n",
    "\n",
    "for train_index, test_index in kf.split(X):\n",
    "    # Dividir los datos\n",
    "    X_train, X_test = X[train_index], X[test_index]\n",
    "    Y_train, Y_test = Y[train_index], Y[test_index]\n",
    "\n",
    "    # Aplicar la aumentación de datos solo al conjunto de entrenamiento\n",
    "    X_train_augmented, Y_train_augmented = augment_data(X_train, Y_train)\n",
    "\n",
    "    # Entrenar el modelo con los datos aumentados\n",
    "    model.fit(X_train_augmented, Y_train_augmented)\n",
    "    \n",
    "    # Obtener HOGS de test\n",
    "    X_test = np.array([im_transformation(row) for row in X_test])\n",
    "    \n",
    "    # Evaluar el modelo\n",
    "    score = model.score(X_test, Y_test)\n",
    "    print(\"Exactitud en el conjunto de prueba:\", score)\n"
   ]
  },
  {
   "cell_type": "markdown",
   "metadata": {},
   "source": [
    "Media: 0.613 > 0.59\n",
    "\n",
    "Ha mejorado un poco el modelo anterior. Por lo tanto nos lo vamos a guardar."
   ]
  },
  {
   "cell_type": "code",
   "execution_count": null,
   "metadata": {},
   "outputs": [],
   "source": []
  }
 ],
 "metadata": {
  "kernelspec": {
   "display_name": "venv",
   "language": "python",
   "name": "python3"
  },
  "language_info": {
   "codemirror_mode": {
    "name": "ipython",
    "version": 3
   },
   "file_extension": ".py",
   "mimetype": "text/x-python",
   "name": "python",
   "nbconvert_exporter": "python",
   "pygments_lexer": "ipython3",
   "version": "3.9.13"
  }
 },
 "nbformat": 4,
 "nbformat_minor": 2
}
